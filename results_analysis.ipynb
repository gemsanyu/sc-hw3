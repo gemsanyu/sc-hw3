{
 "cells": [
  {
   "cell_type": "code",
   "execution_count": 26,
   "id": "bf24f042",
   "metadata": {},
   "outputs": [
    {
     "name": "stdout",
     "output_type": "stream",
     "text": [
      "0\n"
     ]
    }
   ],
   "source": [
    "import pandas as pd\n",
    "\n",
    "df = pd.read_csv(\"small_dataset_info.csv\")\n",
    "df.head()\n",
    "filenames = df[\"Filename\"].tolist()\n",
    "\n",
    "results = []\n",
    "num_not_solved = 0\n",
    "for filename in filenames:\n",
    "    try:\n",
    "        instance_df = pd.read_csv(f\"results/{filename}.csv\", header=None)\n",
    "        instance_df.columns = {\"Filename\",\"Preprocessing Time\",\"Solving Time\", \"Total Time\", \"Number of valid masks\"}\n",
    "        results.append(instance_df)\n",
    "    except FileNotFoundError:\n",
    "        print(filename)\n",
    "        num_not_solved += 1\n",
    "print(num_not_solved)"
   ]
  }
 ],
 "metadata": {
  "kernelspec": {
   "display_name": "vrp",
   "language": "python",
   "name": "python3"
  },
  "language_info": {
   "codemirror_mode": {
    "name": "ipython",
    "version": 3
   },
   "file_extension": ".py",
   "mimetype": "text/x-python",
   "name": "python",
   "nbconvert_exporter": "python",
   "pygments_lexer": "ipython3",
   "version": "3.10.15"
  }
 },
 "nbformat": 4,
 "nbformat_minor": 5
}
