{
 "cells": [
  {
   "cell_type": "code",
   "execution_count": 34,
   "id": "ffc0b24e",
   "metadata": {},
   "outputs": [],
   "source": [
    "from pymoo.indicators.hv import Hypervolume\n",
    "from pymoo.util.nds.non_dominated_sorting import NonDominatedSorting\n",
    "import numpy as np\n",
    "import pandas as pd\n",
    "import matplotlib.pyplot as plt\n",
    "\n",
    "f_nsga2 = np.loadtxt(\"NSGA-II/f.csv\", delimiter=\",\")\n",
    "f_moead = np.loadtxt(\"MOEAD/f.csv\", delimiter=\",\")\n",
    "f_smsemoa = np.loadtxt(\"SMSEMOA/f.csv\", delimiter=\",\")"
   ]
  },
  {
   "cell_type": "code",
   "execution_count": null,
   "id": "84a222a7",
   "metadata": {},
   "outputs": [],
   "source": [
    "all_f = np.concatenate([f_nsga2, f_moead, f_smsemoa], axis=0)\n",
    "pf_idx = NonDominatedSorting().do(all_f, only_non_dominated_front=True)\n",
    "pf = all_f[pf_idx]\n",
    "nadir = np.max(pf, axis=0, keepdims=True)\n",
    "ideal = np.min(pf, axis=0, keepdims=True)\n",
    "nf_nsga2 = (f_nsga2-ideal)/(nadir-ideal)\n",
    "nf_moead = (f_moead-ideal)/(nadir-ideal)\n",
    "nf_smsemoa = (f_smsemoa-ideal)/(nadir-ideal)\n"
   ]
  },
  {
   "cell_type": "code",
   "execution_count": 32,
   "id": "afc59b09",
   "metadata": {},
   "outputs": [],
   "source": [
    "hv_calculator = Hypervolume(ref_point=np.ones((2,)))\n",
    "hv_nsga2 = hv_calculator(nf_nsga2)\n",
    "hv_moead = hv_calculator(nf_moead)\n",
    "hv_smsemoa = hv_calculator(nf_smsemoa)"
   ]
  },
  {
   "cell_type": "code",
   "execution_count": 33,
   "id": "eb01660c",
   "metadata": {},
   "outputs": [
    {
     "name": "stdout",
     "output_type": "stream",
     "text": [
      "0.5076265614727153\n",
      "0.4497041420118344\n",
      "0.39176528599605526\n"
     ]
    }
   ],
   "source": [
    "print(hv_nsga2)\n",
    "print(hv_moead)\n",
    "print(hv_smsemoa)"
   ]
  }
 ],
 "metadata": {
  "kernelspec": {
   "display_name": "3lvrp",
   "language": "python",
   "name": "python3"
  },
  "language_info": {
   "codemirror_mode": {
    "name": "ipython",
    "version": 3
   },
   "file_extension": ".py",
   "mimetype": "text/x-python",
   "name": "python",
   "nbconvert_exporter": "python",
   "pygments_lexer": "ipython3",
   "version": "3.13.0"
  }
 },
 "nbformat": 4,
 "nbformat_minor": 5
}
